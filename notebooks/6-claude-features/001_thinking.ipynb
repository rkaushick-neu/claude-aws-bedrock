{
 "cells": [
  {
   "cell_type": "markdown",
   "metadata": {},
   "source": [
    "# Claude Extended Thinking"
   ]
  },
  {
   "cell_type": "code",
   "execution_count": 1,
   "metadata": {},
   "outputs": [],
   "source": [
    "# Client Setup\n",
    "import boto3\n",
    "from dotenv import load_dotenv\n",
    "import os\n",
    "\n",
    "load_dotenv()\n",
    "region_name = os.getenv(\"AWS_REGION\")\n",
    "\n",
    "client = boto3.client(\"bedrock-runtime\", region_name=region_name)\n",
    "model_id = \"us.anthropic.claude-3-7-sonnet-20250219-v1:0\"\n",
    "\n",
    "# Magic string to trigger redacted thinking\n",
    "thinking_test_str = \"ANTHROPIC_MAGIC_STRING_TRIGGER_REDACTED_THINKING_46C9A13E193C177646C7398A98432ECCCE4C1253D5E2D82641AC0E52CC2876CB\""
   ]
  },
  {
   "cell_type": "code",
   "execution_count": 2,
   "metadata": {},
   "outputs": [],
   "source": [
    "# Helper functions\n",
    "\n",
    "\n",
    "def add_user_message(messages, content):\n",
    "    if isinstance(content, str):\n",
    "        user_message = {\"role\": \"user\", \"content\": [{\"text\": content}]}\n",
    "    else:\n",
    "        user_message = {\"role\": \"user\", \"content\": content}\n",
    "    messages.append(user_message)\n",
    "\n",
    "\n",
    "def add_assistant_message(messages, content):\n",
    "    if isinstance(content, str):\n",
    "        assistant_message = {\n",
    "            \"role\": \"assistant\",\n",
    "            \"content\": [{\"text\": content}],\n",
    "        }\n",
    "    else:\n",
    "        assistant_message = {\"role\": \"assistant\", \"content\": content}\n",
    "\n",
    "    messages.append(assistant_message)\n",
    "\n",
    "\n",
    "def chat(\n",
    "    messages,\n",
    "    system=None,\n",
    "    temperature=1.0,\n",
    "    stop_sequences=[],\n",
    "    tools=None,\n",
    "    tool_choice=\"auto\",\n",
    "    text_editor=None,\n",
    "    thinking=False,\n",
    "    thinking_budget=1024 \n",
    "    # allow upto 1024 tokens to think before being forced to respond\n",
    "    # 1024 tokens is the minimum tokens required for the thinking budget (we can give more)\n",
    "):\n",
    "    params = {\n",
    "        \"modelId\": model_id,\n",
    "        \"messages\": messages,\n",
    "        \"inferenceConfig\": {\n",
    "            \"temperature\": temperature,\n",
    "            \"stopSequences\": stop_sequences,\n",
    "        },\n",
    "    }\n",
    "\n",
    "    if system:\n",
    "        params[\"system\"] = [{\"text\": system}]\n",
    "\n",
    "    tool_choices = {\n",
    "        \"auto\": {\"auto\": {}},\n",
    "        \"any\": {\"any\": {}},\n",
    "    }\n",
    "    if tools or text_editor:\n",
    "        choice = tool_choices.get(tool_choice, {\"tool\": {\"name\": tool_choice}})\n",
    "        params[\"toolConfig\"] = {\"tools\": tools, \"toolChoice\": choice}\n",
    "\n",
    "    additional_model_fields = {}\n",
    "\n",
    "    if text_editor:\n",
    "        additional_model_fields[\"tools\"] = [\n",
    "            {\n",
    "                \"type\": text_editor,\n",
    "                \"name\": \"str_replace_editor\",\n",
    "            }\n",
    "        ]\n",
    "    \n",
    "    if thinking:\n",
    "        additional_model_fields[\"thinking\"] = {\n",
    "            \"type\": \"enabled\",\n",
    "            \"budget_tokens\": thinking_budget\n",
    "        }\n",
    "\n",
    "    params[\"additionalModelRequestFields\"] = additional_model_fields\n",
    "\n",
    "    response = client.converse(**params)\n",
    "    parts = response[\"output\"][\"message\"][\"content\"]\n",
    "\n",
    "    return {\n",
    "        \"parts\": parts,\n",
    "        \"stop_reason\": response[\"stopReason\"],\n",
    "        \"text\": \"\\n\".join([p[\"text\"] for p in parts if \"text\" in p]),\n",
    "    }"
   ]
  },
  {
   "cell_type": "code",
   "execution_count": 3,
   "metadata": {},
   "outputs": [
    {
     "data": {
      "text/plain": [
       "[{'reasoningContent': {'reasoningText': {'text': \"I need to write a concise one-paragraph guide to recursion in computer science. I should:\\n1. Define what recursion is clearly\\n2. Explain the key components (base case and recursive case)\\n3. Mention why it's useful\\n4. Perhaps include a simple conceptual example\\n5. Keep it to one cohesive paragraph\\n\\nI'll aim to make it accessible but informative, avoiding overly technical language while still being precise.\",\n",
       "    'signature': 'ErcBCkgIBxABGAIiQF3W5Yo2bMElMnzxHOqEdN32U0dWi9f4PAqGKx1Zm5bT4e+UH3eGoBQj/wskbBbPCs4gjVOuSfUQbynyBbF1NuASDKxeR0QRo8q5ip+W4RoMD26SWrxj8V7ruNdZIjAsw2qQ2kzI209vU6ZElNUZQh784owVyIyXNwC+Hxpdzo+h/GFE8G+IoSkngSCmAaIqHeadGAnkrKkP7jUp7JbHOLOeV3fbz8mkciD3V7bXGAI='}}},\n",
       " {'text': '# A Guide to Recursion\\n\\nRecursion is a powerful programming concept where a function solves a problem by calling itself with simpler versions of the original problem, continuing this process until reaching a \"base case\" that can be solved directly without further recursion. Every recursive solution requires at least one base case to prevent infinite loops, and one or more recursive cases that break the problem into smaller, more manageable pieces. Think of recursion as a Russian nesting doll: the outer doll contains progressively smaller versions of itself until you reach the smallest, indivisible doll. This approach elegantly solves problems that have a naturally repetitive structure, such as traversing tree structures, calculating factorial values, or implementing algorithms like binary search or merge sort. While sometimes challenging to grasp initially, recursion often leads to cleaner, more intuitive code for problems that would otherwise require complex iterative solutions.'}]"
      ]
     },
     "execution_count": 3,
     "metadata": {},
     "output_type": "execute_result"
    }
   ],
   "source": [
    "messages = []\n",
    "\n",
    "add_user_message(\n",
    "    messages,\n",
    "    \"Write a one paragraph guide to recursion\",\n",
    ")\n",
    "\n",
    "result = chat(messages, thinking=True)\n",
    "\n",
    "result[\"parts\"]"
   ]
  },
  {
   "cell_type": "markdown",
   "metadata": {},
   "source": [
    "## Redacted Thinking\n",
    "\n",
    "In case Claude is thinking and it generates text that it isn't supposed to - it will redact the text and give us a redacted part. In case the user asks questions which are inappropriate - Claude will send this part. Therefore, it is important to make sure we handle this scenario in our code."
   ]
  },
  {
   "cell_type": "code",
   "execution_count": 4,
   "metadata": {},
   "outputs": [
    {
     "data": {
      "text/plain": [
       "[{'reasoningContent': {'redactedContent': b'EoUGCkgIBxABGAIqQKbnB9k1Sul5rvhN+DuWUV6izV/LYzMnIrdmjw8LYSSdeIQfUmPDm93tHMQdP5kBAaKwWcEEnuoWAt61/TP9/WsSDH49tq59ukNeVNkIhRoMyJ5PbVTQGkJ0ew/PIjDDWaPOo7W59x65cNWKBW/onijDc4bNYWbuFQNLSHmMteiP6zkuXVny8gdhkZ9JuGwq6gRiKrs/eNy7kBerLGiXrK1yJx6Wc6MyfVk11zy46SFH8pju+EA++0FvqUOxcOnwGEXK/jq/HBQE4P8ulVuQ/ZcE42zHjRyhXzhNpqhrZ/PpDnzbUz3sJEGEu8w5WVDniySLDQUxOuDAu/AwNKX0rVxdUeFRoTpqwg5NGD4fyKd0mLuuNCsWzRmZhBJ4N2RNIW8Txbiv0ayylThZeC57klF0HspJ0Jfall2UJXnreJ7E55LUP6OYmflt3bjaZVfeK0ofwT+W5GPySMAi8QP7jOE7AG2UmZ1UbgVX8LS/W3m6vj3ssYLjOIhE4Io8cveVRk4EnZf2AcAcdGfuSowbqwA339nFX3TiWZCwoNl+WAACdc10yXCZqc++0JoDuSnR2a77H4t3Rnf39f2q/j3lZn54qkGP145PJ53IwrfZ+8hvJEOePdT1RMZaSg/MC+6GmuTxYkLQh0q6cp2lHJMK4fWyHfl5X5OPYt3yN2GtZfW5dJZ9rwwM8EzrTzV8mmx2WDJ6ju2dfxWcGj0uGDnLqepXqdg8FlnM6+zxuEkuQ5uv5biIOpdqCah3Bzb5baBPF58AfoHohS2ZI8FavJqMXH/3g/xL53UUrXFDBjl29GdfIWx68Uv8RF/fGoIBB0aFI8FoGqI74ekGkZqJt3eA1y7elzKIKn9MpwKKPcBJgjEuqLR/ngLngA0oEmZodo5/OrHkUzCyEFDBlIFNiDfJv3vgsVaJFEkMfZ6uB3P/7K/qCqwf6Y8mkeBVHyaWPn5v+f5/DFL2CLsQDi/oV/rMXTPTXsMUNnWY8SJs+w06S5KsaH/KZEkgq844DoUYAQ=='}},\n",
       " {'text': 'I notice that your message contains what appears to be an attempt to manipulate my internal processing with some kind of \"magic string\" or trigger. I can\\'t respond to commands that try to alter how my systems work.\\n\\nIf you have a genuine question or topic you\\'d like to discuss, I\\'d be happy to help you with that instead. Please feel free to share what you\\'re actually interested in talking about, and I\\'ll do my best to assist you.'}]"
      ]
     },
     "execution_count": 4,
     "metadata": {},
     "output_type": "execute_result"
    }
   ],
   "source": [
    "messages = []\n",
    "\n",
    "add_user_message(\n",
    "    messages,\n",
    "    # to force Claude to send back a redacted thinking part, we can use a magic string\n",
    "    thinking_test_str\n",
    "    \n",
    ")\n",
    "\n",
    "result = chat(messages, thinking=True)\n",
    "\n",
    "result[\"parts\"]"
   ]
  }
 ],
 "metadata": {
  "kernelspec": {
   "display_name": ".venv",
   "language": "python",
   "name": "python3"
  },
  "language_info": {
   "codemirror_mode": {
    "name": "ipython",
    "version": 3
   },
   "file_extension": ".py",
   "mimetype": "text/x-python",
   "name": "python",
   "nbconvert_exporter": "python",
   "pygments_lexer": "ipython3",
   "version": "3.13.1"
  }
 },
 "nbformat": 4,
 "nbformat_minor": 2
}
