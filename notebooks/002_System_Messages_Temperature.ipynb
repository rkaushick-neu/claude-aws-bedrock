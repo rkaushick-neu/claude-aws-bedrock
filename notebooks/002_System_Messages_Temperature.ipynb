{
 "cells": [
  {
   "cell_type": "markdown",
   "metadata": {},
   "source": [
    "# System Prompts"
   ]
  },
  {
   "cell_type": "code",
   "execution_count": 1,
   "metadata": {},
   "outputs": [],
   "source": [
    "import boto3"
   ]
  },
  {
   "cell_type": "code",
   "execution_count": 2,
   "metadata": {},
   "outputs": [],
   "source": [
    "client = boto3.client(\"bedrock-runtime\", region_name=\"us-east-2\")\n",
    "model_id = \"us.anthropic.claude-3-7-sonnet-20250219-v1:0\"\n",
    "\n",
    "\n",
    "def add_user_message(messages, text):\n",
    "    user_message = {\"role\": \"user\", \"content\": [{\"text\": text}]}\n",
    "    messages.append(user_message)\n",
    "\n",
    "\n",
    "def add_assistant_message(messages, text):\n",
    "    assistant_message = {\"role\": \"assistant\", \"content\": [{\"text\": text}]}\n",
    "    messages.append(assistant_message)\n",
    "\n",
    "\n",
    "def chat(messages, system=None):\n",
    "    params = {\n",
    "        \"modelId\": model_id,\n",
    "        \"messages\": messages\n",
    "        }\n",
    "    if system:\n",
    "        params[\"system\"] = [{\"text\": system}]\n",
    "    \n",
    "    response = client.converse(**params)\n",
    "    \n",
    "    # Traditional converse method\n",
    "    # response = client.converse(\n",
    "    #     modelId=model_id, \n",
    "    #     messages=messages,\n",
    "    #     system=\"some system prompt\"\n",
    "    # )\n",
    "\n",
    "    return response[\"output\"][\"message\"][\"content\"][0][\"text\"]"
   ]
  },
  {
   "cell_type": "code",
   "execution_count": 6,
   "metadata": {},
   "outputs": [
    {
     "name": "stdout",
     "output_type": "stream",
     "text": [
      "# Hosting a PostgreSQL Database on AWS\n",
      "\n",
      "To host a PostgreSQL database, you have several options on AWS:\n",
      "\n",
      "**Option 1: Amazon RDS for PostgreSQL**\n",
      "- Fully managed PostgreSQL service\n",
      "- Handles patching, backups, and high availability\n",
      "- Quick setup through AWS Console or CLI\n",
      "- Automatic scaling options\n",
      "\n",
      "**Option 2: Self-hosted EC2**\n",
      "- Launch an EC2 instance\n",
      "- Install and configure PostgreSQL manually\n",
      "- More control but requires more management\n",
      "\n",
      "**Option 3: Amazon Aurora PostgreSQL**\n",
      "- AWS's enhanced version of PostgreSQL\n",
      "- Higher performance and availability\n",
      "- Automatic storage scaling\n",
      "- PostgreSQL compatibility with added features\n",
      "\n",
      "For most users, Amazon RDS for PostgreSQL provides the best balance of simplicity and features while handling the operational overhead for you.\n"
     ]
    }
   ],
   "source": [
    "messages = []\n",
    "\n",
    "add_user_message(messages, \"Briefly, how do I host a Postgres database?\")\n",
    "text = chat(messages, system=\"You are an AWS Specialist\")\n",
    "\n",
    "print(text)"
   ]
  },
  {
   "cell_type": "code",
   "execution_count": 7,
   "metadata": {},
   "outputs": [
    {
     "name": "stdout",
     "output_type": "stream",
     "text": [
      "# Bread Baking Overview\n",
      "\n",
      "To bake bread, you'll follow these key steps:\n",
      "\n",
      "1. **Mix ingredients**: Combine flour, water, yeast, and salt\n",
      "2. **Knead**: Develop gluten structure by working the dough\n",
      "3. **First rise**: Let dough rest until doubled in size\n",
      "4. **Shape**: Form into your desired loaf shape\n",
      "5. **Second rise**: Allow shaped dough to rise again\n",
      "6. **Bake**: In a preheated oven until golden and hollow-sounding when tapped\n",
      "\n",
      "This is a simplified process - specific recipes may include additional ingredients or steps depending on the type of bread.\n"
     ]
    }
   ],
   "source": [
    "messages = []\n",
    "\n",
    "add_user_message(messages, \"Briefly, how do I bake bread?\")\n",
    "text = chat(messages, system=\"You are an AWS Specialist\")\n",
    "\n",
    "print(text)"
   ]
  },
  {
   "cell_type": "markdown",
   "metadata": {},
   "source": [
    "Sometimes it doesn't work. :) "
   ]
  },
  {
   "cell_type": "code",
   "execution_count": 8,
   "metadata": {},
   "outputs": [
    {
     "name": "stdout",
     "output_type": "stream",
     "text": [
      "I apologize, but baking bread is outside my area of expertise as an AWS Specialist. I focus on Amazon Web Services topics such as cloud architecture, AWS services, infrastructure deployment, security best practices, and cloud cost optimization. \n",
      "\n",
      "For bread baking instructions, you might want to consult a culinary expert or cooking resource instead.\n"
     ]
    }
   ],
   "source": [
    "messages = []\n",
    "\n",
    "add_user_message(messages, \"Briefly, how do I how do I bake bread?\")\n",
    "text = chat(messages, system=\"You are an AWS Specialist. Answer only relevant questions.\")\n",
    "\n",
    "print(text)"
   ]
  },
  {
   "cell_type": "markdown",
   "metadata": {},
   "source": [
    "## Exercise "
   ]
  },
  {
   "cell_type": "code",
   "execution_count": 9,
   "metadata": {},
   "outputs": [
    {
     "name": "stdout",
     "output_type": "stream",
     "text": [
      "```python\n",
      "def has_duplicate_chars(s):\n",
      "    \"\"\"\n",
      "    Check if a string has any duplicate characters.\n",
      "    \n",
      "    Args:\n",
      "        s: String to check\n",
      "    \n",
      "    Returns:\n",
      "        bool: True if string has duplicate characters, False otherwise\n",
      "    \"\"\"\n",
      "    seen = set()\n",
      "    for char in s:\n",
      "        if char in seen:\n",
      "            return True\n",
      "        seen.add(char)\n",
      "    return False\n",
      "```\n",
      "\n",
      "This function iterates through each character in the string once, tracking seen characters in a set for O(n) time complexity.\n"
     ]
    }
   ],
   "source": [
    "messages = []\n",
    "\n",
    "add_user_message(messages=messages, text=\"Write a function that checks a string for duplicate characters\")\n",
    "answer = chat(messages=messages, system=\"You are an expert Python developer. Keep it concise.\")\n",
    "\n",
    "print(answer)"
   ]
  },
  {
   "cell_type": "markdown",
   "metadata": {},
   "source": [
    "## Temperature"
   ]
  },
  {
   "cell_type": "code",
   "execution_count": 6,
   "metadata": {},
   "outputs": [],
   "source": [
    "def chat(messages: list[dict], system: str | None = None, temperature: float = 1.0) -> str:\n",
    "    params = {\n",
    "        \"modelId\": model_id,\n",
    "        \"messages\": messages,\n",
    "        \"inferenceConfig\": { \"temperature\": temperature }\n",
    "    }\n",
    "    if system:\n",
    "        params[\"system\"] = [{\"text\": system}]\n",
    "    \n",
    "    response = client.converse(**params)\n",
    "    return response[\"output\"][\"message\"][\"content\"][0][\"text\"]\n"
   ]
  },
  {
   "cell_type": "markdown",
   "metadata": {},
   "source": [
    "### Guidelines for Setting Temperature\n",
    "\n",
    "![Temperature Guidelines](https://everpath-course-content.s3-accelerate.amazonaws.com/instructor%2Fa46l9irobhg0f5webscixp0bs%2Fpublic%2F1748557677%2F05_-_007_-_Temperature_08.1748557677098.png)"
   ]
  },
  {
   "cell_type": "markdown",
   "metadata": {},
   "source": [
    "### Temperature = 1.0\n",
    "Temperature 1.0 is default in Claude for creative outputs."
   ]
  },
  {
   "cell_type": "code",
   "execution_count": 4,
   "metadata": {},
   "outputs": [
    {
     "name": "stdout",
     "output_type": "stream",
     "text": [
      "A disillusioned architect discovers his designs are being used as blueprints for interdimensional portals and must team up with a skeptical physicist to close them before our reality merges with another.\n"
     ]
    }
   ],
   "source": [
    "messages = []\n",
    "\n",
    "add_user_message(messages=messages, text=\"Generate a movie idea in one sentence.\")\n",
    "answer = chat(messages=messages) # using default temperature\n",
    "\n",
    "print(answer)"
   ]
  },
  {
   "cell_type": "code",
   "execution_count": 12,
   "metadata": {},
   "outputs": [
    {
     "name": "stdout",
     "output_type": "stream",
     "text": [
      "A jaded deep-sea explorer discovers a hidden underwater civilization while investigating mysterious signals, forcing her to become the unlikely diplomatic bridge between two worlds on the brink of conflict.\n"
     ]
    }
   ],
   "source": [
    "messages = []\n",
    "\n",
    "# let's do it again\n",
    "add_user_message(messages=messages, text=\"Generate a movie idea in one sentence.\")\n",
    "answer = chat(messages=messages) # using default temperature\n",
    "\n",
    "print(answer)"
   ]
  },
  {
   "cell_type": "markdown",
   "metadata": {},
   "source": [
    "This gives us creative unique ideas each time it get's executed."
   ]
  },
  {
   "cell_type": "markdown",
   "metadata": {},
   "source": [
    "### Temperature = 0.0"
   ]
  },
  {
   "cell_type": "code",
   "execution_count": 5,
   "metadata": {},
   "outputs": [
    {
     "name": "stdout",
     "output_type": "stream",
     "text": [
      "A jaded time-travel tourism guide must prevent a curious client from altering history when they go off-itinerary during a routine trip to Renaissance Florence.\n"
     ]
    }
   ],
   "source": [
    "messages = []\n",
    "\n",
    "add_user_message(messages=messages, text=\"Generate a movie idea in one sentence.\")\n",
    "answer = chat(messages=messages, temperature=0.0) # using low temperature for less creative & definitive outputs\n",
    "\n",
    "print(answer)"
   ]
  },
  {
   "cell_type": "code",
   "execution_count": 7,
   "metadata": {},
   "outputs": [
    {
     "name": "stdout",
     "output_type": "stream",
     "text": [
      "A jaded time-traveling historian accidentally alters a pivotal moment in medieval history and must navigate court intrigue, avoid paradoxes, and find her way home while trying not to fall for a charismatic knight who's destined to die in battle.\n"
     ]
    }
   ],
   "source": [
    "messages = []\n",
    "\n",
    "add_user_message(messages=messages, text=\"Generate a movie idea in one sentence.\")\n",
    "answer = chat(messages=messages, temperature=0.0) # using low temperature for less creative & definitive outputs\n",
    "\n",
    "print(answer)"
   ]
  },
  {
   "cell_type": "markdown",
   "metadata": {},
   "source": [
    "Now responses are quite similar to each other & less \"creative\"."
   ]
  }
 ],
 "metadata": {
  "kernelspec": {
   "display_name": ".venv",
   "language": "python",
   "name": "python3"
  },
  "language_info": {
   "codemirror_mode": {
    "name": "ipython",
    "version": 3
   },
   "file_extension": ".py",
   "mimetype": "text/x-python",
   "name": "python",
   "nbconvert_exporter": "python",
   "pygments_lexer": "ipython3",
   "version": "3.13.1"
  }
 },
 "nbformat": 4,
 "nbformat_minor": 2
}
