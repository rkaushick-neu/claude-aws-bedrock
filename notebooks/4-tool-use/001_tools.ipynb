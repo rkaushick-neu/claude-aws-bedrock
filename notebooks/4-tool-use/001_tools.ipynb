{
 "cells": [
  {
   "cell_type": "code",
   "execution_count": 4,
   "metadata": {},
   "outputs": [],
   "source": [
    "# Client Setup\n",
    "import boto3\n",
    "\n",
    "client = boto3.client(\"bedrock-runtime\", region_name=\"us-east-2\")\n",
    "model_id = \"us.anthropic.claude-3-7-sonnet-20250219-v1:0\""
   ]
  },
  {
   "cell_type": "code",
   "execution_count": null,
   "metadata": {},
   "outputs": [],
   "source": [
    "# Helper functions\n",
    "\n",
    "\n",
    "def add_user_message(messages, text):\n",
    "    user_message = {\"role\": \"user\", \"content\": [{\"text\": text}]}\n",
    "    messages.append(user_message)\n",
    "\n",
    "\n",
    "def add_assistant_message(messages, text):\n",
    "    assistant_message = {\n",
    "        \"role\": \"assistant\",\n",
    "        \"content\": [{\"text\": text}],\n",
    "    }\n",
    "    messages.append(assistant_message)\n",
    "\n",
    "\n",
    "def chat(messages, system=None, temperature=1.0, stop_sequences=[]):\n",
    "    params = {\n",
    "        \"modelId\": model_id,\n",
    "        \"messages\": messages,\n",
    "        \"inferenceConfig\": {\n",
    "            \"temperature\": temperature,\n",
    "            \"stopSequences\": stop_sequences,\n",
    "        },\n",
    "    }\n",
    "\n",
    "    if system:\n",
    "        params[\"system\"] = [{\"text\": system}]\n",
    "\n",
    "    response = client.converse(**params)\n",
    "\n",
    "    return response[\"output\"][\"message\"][\"content\"][0][\"text\"]"
   ]
  },
  {
   "cell_type": "code",
   "execution_count": 6,
   "metadata": {},
   "outputs": [],
   "source": [
    "# Tools and Schemas\n",
    "\n",
    "from datetime import datetime, timedelta\n",
    "\n",
    "\n",
    "def add_duration_to_datetime(\n",
    "    datetime_str, duration=0, unit=\"days\", input_format=\"%Y-%m-%d\"\n",
    "):\n",
    "    date = datetime.strptime(datetime_str, input_format)\n",
    "\n",
    "    if unit == \"seconds\":\n",
    "        new_date = date + timedelta(seconds=duration)\n",
    "    elif unit == \"minutes\":\n",
    "        new_date = date + timedelta(minutes=duration)\n",
    "    elif unit == \"hours\":\n",
    "        new_date = date + timedelta(hours=duration)\n",
    "    elif unit == \"days\":\n",
    "        new_date = date + timedelta(days=duration)\n",
    "    elif unit == \"weeks\":\n",
    "        new_date = date + timedelta(weeks=duration)\n",
    "    elif unit == \"months\":\n",
    "        month = date.month + duration\n",
    "        year = date.year + month // 12\n",
    "        month = month % 12\n",
    "        if month == 0:\n",
    "            month = 12\n",
    "            year -= 1\n",
    "        day = min(\n",
    "            date.day,\n",
    "            [\n",
    "                31,\n",
    "                29\n",
    "                if year % 4 == 0 and (year % 100 != 0 or year % 400 == 0)\n",
    "                else 28,\n",
    "                31,\n",
    "                30,\n",
    "                31,\n",
    "                30,\n",
    "                31,\n",
    "                31,\n",
    "                30,\n",
    "                31,\n",
    "                30,\n",
    "                31,\n",
    "            ][month - 1],\n",
    "        )\n",
    "        new_date = date.replace(year=year, month=month, day=day)\n",
    "    elif unit == \"years\":\n",
    "        new_date = date.replace(year=date.year + duration)\n",
    "    else:\n",
    "        raise ValueError(f\"Unsupported time unit: {unit}\")\n",
    "\n",
    "    return new_date.strftime(\"%A, %B %d, %Y %I:%M:%S %p\")\n",
    "\n",
    "\n",
    "def set_reminder(content, timestamp):\n",
    "    print(\n",
    "        f\"----\\nSetting the following reminder for {timestamp}:\\n{content}\\n----\"\n",
    "    )\n",
    "\n",
    "\n",
    "get_current_datetime_schema = {\n",
    "    \"toolSpec\": {\n",
    "        \"name\": \"get_current_datetime\",\n",
    "        \"description\": \"Retrieves the current date and time formatted according to the specified format string. This tool returns the system's current local date and time as a formatted string. It should be used when the user needs to know the current date, time, or both in a specific format. The tool uses Python's datetime.now() function internally, so it will reflect the server's local time zone settings. This tool does not support retrieving dates or times for different time zones or historical/future dates.\",\n",
    "        \"inputSchema\": {\n",
    "            \"json\": {\n",
    "                \"type\": \"object\",\n",
    "                \"properties\": {\n",
    "                    \"date_format\": {\n",
    "                        \"type\": \"string\",\n",
    "                        \"description\": \"A string that specifies the format of the returned date and time, using Python's strftime format codes. For example, '%Y-%m-%d' returns only the date as '2025-04-02', '%H:%M:%S' returns only the time as '14:30:45', and the default '%Y-%m-%d %H:%M:%S' returns both as '2025-04-02 14:30:45'. Use format codes like %Y (4-digit year), %m (month), %d (day), %H (hour), %M (minute), and %S (second) to customize the output format.\",\n",
    "                    }\n",
    "                },\n",
    "            },\n",
    "        },\n",
    "    }\n",
    "}\n",
    "\n",
    "\n",
    "add_duration_to_datetime_schema = {\n",
    "    \"toolSpec\": {\n",
    "        \"name\": \"add_duration_to_datetime\",\n",
    "        \"description\": \"Adds a specified duration to a datetime string and returns the resulting datetime in a detailed format. This tool converts an input datetime string to a Python datetime object, adds the specified duration in the requested unit, and returns a formatted string of the resulting datetime. It handles various time units including seconds, minutes, hours, days, weeks, months, and years, with special handling for month and year calculations to account for varying month lengths and leap years. The output is always returned in a detailed format that includes the day of the week, month name, day, year, and time with AM/PM indicator (e.g., 'Thursday, April 03, 2025 10:30:00 AM').\",\n",
    "        \"inputSchema\": {\n",
    "            \"json\": {\n",
    "                \"type\": \"object\",\n",
    "                \"properties\": {\n",
    "                    \"datetime_str\": {\n",
    "                        \"type\": \"string\",\n",
    "                        \"description\": \"The input datetime string to which the duration will be added. This should be formatted according to the input_format parameter.\",\n",
    "                    },\n",
    "                    \"duration\": {\n",
    "                        \"type\": \"number\",\n",
    "                        \"description\": \"The amount of time to add to the datetime. Can be positive (for future dates) or negative (for past dates). Defaults to 0.\",\n",
    "                    },\n",
    "                    \"unit\": {\n",
    "                        \"type\": \"string\",\n",
    "                        \"description\": \"The unit of time for the duration. Must be one of: 'seconds', 'minutes', 'hours', 'days', 'weeks', 'months', or 'years'. Defaults to 'days'.\",\n",
    "                    },\n",
    "                    \"input_format\": {\n",
    "                        \"type\": \"string\",\n",
    "                        \"description\": \"The format string for parsing the input datetime_str, using Python's strptime format codes. For example, '%Y-%m-%d' for ISO format dates like '2025-04-03'. Defaults to '%Y-%m-%d'.\",\n",
    "                    },\n",
    "                },\n",
    "                \"required\": [\"datetime_str\"],\n",
    "            }\n",
    "        },\n",
    "    }\n",
    "}\n",
    "\n",
    "set_reminder_schema = {\n",
    "    \"toolSpec\": {\n",
    "        \"name\": \"set_reminder\",\n",
    "        \"description\": \"Creates a timed reminder that will notify the user at the specified time with the provided content. This tool schedules a notification to be delivered to the user at the exact timestamp provided. It should be used when a user wants to be reminded about something specific at a future point in time. The reminder system will store the content and timestamp, then trigger a notification through the user's preferred notification channels (mobile alerts, email, etc.) when the specified time arrives. Reminders are persisted even if the application is closed or the device is restarted. Users can rely on this function for important time-sensitive notifications such as meetings, tasks, medication schedules, or any other time-bound activities.\",\n",
    "        \"inputSchema\": {\n",
    "            \"json\": {\n",
    "                \"type\": \"object\",\n",
    "                \"properties\": {\n",
    "                    \"content\": {\n",
    "                        \"type\": \"string\",\n",
    "                        \"description\": \"The message text that will be displayed in the reminder notification. This should contain the specific information the user wants to be reminded about, such as 'Take medication', 'Join video call with team', or 'Pay utility bills'.\",\n",
    "                    },\n",
    "                    \"timestamp\": {\n",
    "                        \"type\": \"string\",\n",
    "                        \"description\": \"The exact date and time when the reminder should be triggered, formatted as an ISO 8601 timestamp (YYYY-MM-DDTHH:MM:SS) or a Unix timestamp. The system handles all timezone processing internally, ensuring reminders are triggered at the correct time regardless of where the user is located. Users can simply specify the desired time without worrying about timezone configurations.\",\n",
    "                    },\n",
    "                },\n",
    "                \"required\": [\"content\", \"timestamp\"],\n",
    "            }\n",
    "        },\n",
    "    }\n",
    "}\n",
    "\n",
    "batch_tool_schema = {\n",
    "    \"toolSpec\": {\n",
    "        \"name\": \"batch_tool\",\n",
    "        \"description\": \"Invoke multiple other tool calls simultaneously\",\n",
    "        \"inputSchema\": {\n",
    "            \"json\": {\n",
    "                \"type\": \"object\",\n",
    "                \"properties\": {\n",
    "                    \"invocations\": {\n",
    "                        \"type\": \"array\",\n",
    "                        \"description\": \"The tool calls to invoke\",\n",
    "                        \"items\": {\n",
    "                            \"types\": \"object\",\n",
    "                            \"properties\": {\n",
    "                                \"name\": {\n",
    "                                    \"types\": \"string\",\n",
    "                                    \"description\": \"The name of the tool to invoke\",\n",
    "                                },\n",
    "                                \"arguments\": {\n",
    "                                    \"types\": \"string\",\n",
    "                                    \"description\": \"The arguments to the tool, encoded as a JSON string\",\n",
    "                                },\n",
    "                            },\n",
    "                            \"required\": [\"name\", \"arguments\"],\n",
    "                        },\n",
    "                    }\n",
    "                },\n",
    "                \"required\": [\"invocations\"],\n",
    "            }\n",
    "        },\n",
    "    }\n",
    "}\n"
   ]
  },
  {
   "cell_type": "markdown",
   "metadata": {},
   "source": [
    "## 1. Tool Functions\n",
    "\n",
    "Best Practices:\n",
    "\n",
    "- Use well-named, descriptive arguments (important for later)\n",
    "- Validate the inputs, raising errors if they fail\n",
    "- Return meaningful errors - Claude will try to call your function a second time if it get's an error"
   ]
  },
  {
   "cell_type": "markdown",
   "metadata": {},
   "source": [
    "### Get Current Date & Time"
   ]
  },
  {
   "cell_type": "code",
   "execution_count": 28,
   "metadata": {},
   "outputs": [
    {
     "data": {
      "text/plain": [
       "'2025-09-07 22:30:56'"
      ]
     },
     "execution_count": 28,
     "metadata": {},
     "output_type": "execute_result"
    }
   ],
   "source": [
    "def get_current_datetime(date_format=\"%Y-%m-%d %H:%M:%S\"):\n",
    "    return datetime.now().strftime(date_format)\n",
    "\n",
    "get_current_datetime()"
   ]
  },
  {
   "cell_type": "markdown",
   "metadata": {},
   "source": [
    "## 2. JSON Schema Specifications\n",
    "\n",
    "![JSON Schema Spec](https://everpath-course-content.s3-accelerate.amazonaws.com/instructor%2Fa46l9irobhg0f5webscixp0bs%2Fpublic%2F1748558031%2F08_-_003_-_JSON_Schema_for_Tools_04.1748558031698.png)\n",
    "\n",
    "Purpose:\n",
    "1. Helps LLMs understand what arguments are required by the tool function.\n",
    "2. Used for data validation across many programming contexts.\n",
    "\n",
    "\n",
    "Best Practices:\n",
    "- Explain what the tool does, when to use it and what it returns\n",
    "- Aim for 3 to 4 sentences in your descriptions\n",
    "- Provide detailed descriptions for parameters"
   ]
  },
  {
   "cell_type": "code",
   "execution_count": 1,
   "metadata": {},
   "outputs": [],
   "source": [
    "# 1. send this to the JSON to JSON Schema Converter\n",
    "current_date_time_json = {\n",
    "    \"date_format\": \"%Y-%m-%d %H:%M:%S\"\n",
    "}"
   ]
  },
  {
   "cell_type": "code",
   "execution_count": 2,
   "metadata": {},
   "outputs": [],
   "source": [
    "# 2. adding the description of the parameters \n",
    "current_date_time_json_schema = {\n",
    "  \"type\": \"object\",\n",
    "  \"properties\": {\n",
    "    \"date_format\": {\n",
    "      \"type\": \"string\",\n",
    "      \"description\": \"The format for returning the date-time as per Python strftime.\"\n",
    "    }\n",
    "  },\n",
    "  \"required\": [\n",
    "    \"date_format\"\n",
    "  ]\n",
    "}"
   ]
  },
  {
   "cell_type": "code",
   "execution_count": 3,
   "metadata": {},
   "outputs": [],
   "source": [
    "# 3. putting it all together\n",
    "current_date_time_json_schema = {\n",
    "    \"toolSpec\": {\n",
    "        \"name\": \"get_current_date_time\",\n",
    "        \"description\": \"Retrieves the current date and time formatted according to the specified format string. This tool returns the system's current local date and time as a formatted string. It should be used when the user needs to know the current date, time, or both in a specific format. The tool uses Python's datetime.now() function internally, so it will reflect the server's local time zone settings. This tool does not support retrieving dates or times for different time zones or historical/future dates.\",\n",
    "        \"inputSchema\": {\n",
    "            \"json\": {\n",
    "                \"type\": \"object\",\n",
    "                \"properties\": {\n",
    "                    \"date_format\": {\n",
    "                        \"type\": \"string\",\n",
    "                        \"description\": \"The format for returning the date-time as per Python strftime.\"\n",
    "                    }\n",
    "                },\n",
    "                \"required\": [\n",
    "                    \"date_format\"\n",
    "                ]\n",
    "            }\n",
    "        }\n",
    "    } \n",
    "}"
   ]
  },
  {
   "cell_type": "markdown",
   "metadata": {},
   "source": [
    "## 3. Call Claude with JSON Schema"
   ]
  },
  {
   "cell_type": "code",
   "execution_count": 8,
   "metadata": {},
   "outputs": [],
   "source": [
    "def chat(messages, system=None, temperature=1.0, stop_sequences=[], tools=None):\n",
    "    params = {\n",
    "        \"modelId\": model_id,\n",
    "        \"messages\": messages,\n",
    "        \"inferenceConfig\": {\n",
    "            \"temperature\": temperature,\n",
    "            \"stopSequences\": stop_sequences,\n",
    "        },\n",
    "    }\n",
    "\n",
    "    if system:\n",
    "        params[\"system\"] = [{\"text\": system}]\n",
    "\n",
    "    if tools:\n",
    "        params[\"toolConfig\"] = {\"tools\": tools, \"toolChoice\": {\"auto\": {}}}\n",
    "        # toolChoice \n",
    "            # - auto is the default so technically we don't need to mention it.\n",
    "            # - other options:\n",
    "                # - \"any\": {}\n",
    "                # - \"tool\": {\"name\": \"tool-name\"}\n",
    "\n",
    "    response = client.converse(**params)\n",
    "\n",
    "    return response[\"output\"][\"message\"][\"content\"][0][\"text\"]"
   ]
  },
  {
   "cell_type": "markdown",
   "metadata": {},
   "source": [
    "### Controlling Tool Use Using 'toolChoice'\n",
    "![auto, any and tool](https://everpath-course-content.s3-accelerate.amazonaws.com/instructor%2Fa46l9irobhg0f5webscixp0bs%2Fpublic%2F1748558036%2F08_-_004_-_Handling_Tool_Use_Responses_02.1748558036403.png)"
   ]
  },
  {
   "cell_type": "code",
   "execution_count": null,
   "metadata": {},
   "outputs": [
    {
     "data": {
      "text/plain": [
       "\"I don't have the ability to determine the current time for your location as I don't have access to real-time data or your device's clock. To check the current time, you could look at your device's clock, ask a smart assistant like Siri or Google Assistant, or visit a time website.\""
      ]
     },
     "execution_count": 9,
     "metadata": {},
     "output_type": "execute_result"
    }
   ],
   "source": [
    "# without tool call\n",
    "\n",
    "messages = []\n",
    "\n",
    "add_user_message(messages, \"What time is it?\")\n",
    "chat(messages)"
   ]
  },
  {
   "cell_type": "code",
   "execution_count": 10,
   "metadata": {},
   "outputs": [
    {
     "data": {
      "text/plain": [
       "'I can check the current time for you. Let me retrieve that information for you right now.'"
      ]
     },
     "execution_count": 10,
     "metadata": {},
     "output_type": "execute_result"
    }
   ],
   "source": [
    "# with tool call\n",
    "\n",
    "messages = []\n",
    "\n",
    "add_user_message(messages, \"What time is it?\")\n",
    "chat(messages, tools=[get_current_datetime_schema])"
   ]
  },
  {
   "cell_type": "markdown",
   "metadata": {},
   "source": [
    "Let's see what's going on by printing the response from the chat function."
   ]
  },
  {
   "cell_type": "code",
   "execution_count": 11,
   "metadata": {},
   "outputs": [],
   "source": [
    "def chat(messages, system=None, temperature=1.0, stop_sequences=[], tools=None):\n",
    "    params = {\n",
    "        \"modelId\": model_id,\n",
    "        \"messages\": messages,\n",
    "        \"inferenceConfig\": {\n",
    "            \"temperature\": temperature,\n",
    "            \"stopSequences\": stop_sequences,\n",
    "        },\n",
    "    }\n",
    "\n",
    "    if system:\n",
    "        params[\"system\"] = [{\"text\": system}]\n",
    "\n",
    "    if tools:\n",
    "        params[\"toolConfig\"] = {\"tools\": tools, \"toolChoice\": {\"auto\": {}}}\n",
    "        # toolChoice \n",
    "            # - auto is the default so technically we don't need to mention it.\n",
    "            # - other options:\n",
    "                # - \"any\": {}\n",
    "                # - \"tool\": {\"name\": \"tool-name\"}\n",
    "\n",
    "    response = client.converse(**params)\n",
    "    print(response)\n",
    "\n",
    "    return response[\"output\"][\"message\"][\"content\"][0][\"text\"]"
   ]
  },
  {
   "cell_type": "code",
   "execution_count": 12,
   "metadata": {},
   "outputs": [
    {
     "name": "stdout",
     "output_type": "stream",
     "text": [
      "{'ResponseMetadata': {'RequestId': 'b572382e-a05d-4b7f-a72f-126e09bbab80', 'HTTPStatusCode': 200, 'HTTPHeaders': {'date': 'Sun, 07 Sep 2025 17:11:58 GMT', 'content-type': 'application/json', 'content-length': '486', 'connection': 'keep-alive', 'x-amzn-requestid': 'b572382e-a05d-4b7f-a72f-126e09bbab80'}, 'RetryAttempts': 0}, 'output': {'message': {'role': 'assistant', 'content': [{'text': 'I can help you find out the current time. Let me check that for you.'}, {'toolUse': {'toolUseId': 'tooluse_0-ZlzEmcRNaHuiNSnjVw7A', 'name': 'get_current_datetime', 'input': {'date_format': '%H:%M:%S'}}}]}}, 'stopReason': 'tool_use', 'usage': {'inputTokens': 614, 'outputTokens': 80, 'totalTokens': 694, 'cacheReadInputTokens': 0, 'cacheWriteInputTokens': 0}, 'metrics': {'latencyMs': 1855}}\n"
     ]
    },
    {
     "data": {
      "text/plain": [
       "'I can help you find out the current time. Let me check that for you.'"
      ]
     },
     "execution_count": 12,
     "metadata": {},
     "output_type": "execute_result"
    }
   ],
   "source": [
    "# with tool call\n",
    "\n",
    "messages = []\n",
    "\n",
    "add_user_message(messages, \"What time is it?\")\n",
    "chat(messages, tools=[get_current_datetime_schema])"
   ]
  },
  {
   "cell_type": "code",
   "execution_count": 14,
   "metadata": {},
   "outputs": [],
   "source": [
    "def chat(messages, system=None, temperature=1.0, stop_sequences=[], tools=None):\n",
    "    params = {\n",
    "        \"modelId\": model_id,\n",
    "        \"messages\": messages,\n",
    "        \"inferenceConfig\": {\n",
    "            \"temperature\": temperature,\n",
    "            \"stopSequences\": stop_sequences,\n",
    "        },\n",
    "    }\n",
    "\n",
    "    if system:\n",
    "        params[\"system\"] = [{\"text\": system}]\n",
    "\n",
    "    if tools:\n",
    "        params[\"toolConfig\"] = {\"tools\": tools, \"toolChoice\": {\"auto\": {}}}\n",
    "        # toolChoice \n",
    "            # - auto is the default so technically we don't need to mention it.\n",
    "            # - other options:\n",
    "                # - \"any\": {}\n",
    "                # - \"tool\": {\"name\": \"tool-name\"}\n",
    "\n",
    "    response = client.converse(**params)\n",
    "    \n",
    "    text = response[\"output\"][\"message\"][\"content\"][0][\"text\"]\n",
    "    parts = response[\"output\"][\"message\"][\"content\"]\n",
    "\n",
    "    # parts looks like this:\n",
    "    # \"content\": [\n",
    "    #             {\"text\": \"I can help you find out the current time. Let me check that for you.\"}, \n",
    "    #             {\"toolUse\": {\n",
    "    #                 \"toolUseId\": \"tooluse_0-ZlzEmcRNaHuiNSnjVw7A\", \n",
    "    #                 \"name\": \"get_current_datetime\", \n",
    "    #                 \"input\": {\"date_format\": \"%H:%M:%S\"}\n",
    "    #             }}\n",
    "    #         ]\n",
    "\n",
    "    return text, parts"
   ]
  },
  {
   "cell_type": "markdown",
   "metadata": {},
   "source": [
    "The chat function above now gives us both the text and some parts (toolUse). However we need to add this the tool use information into the user message and assistant messages:"
   ]
  },
  {
   "cell_type": "code",
   "execution_count": 15,
   "metadata": {},
   "outputs": [],
   "source": [
    "def add_user_message(messages, content):\n",
    "    # if the content is a string\n",
    "    if isinstance(content, str):\n",
    "        user_message = {\"role\": \"user\", \"content\": [{\"text\": content}]}\n",
    "    # if it is a dictionary\n",
    "    else:\n",
    "        user_message = {\"role\": \"user\", \"content\": content}\n",
    "    messages.append(user_message)\n",
    "\n",
    "\n",
    "def add_assistant_message(messages, content):\n",
    "    if isinstance(content, str):\n",
    "        assistant_message = {\n",
    "            \"role\": \"assistant\",\n",
    "            \"content\": [{\"text\": content}],\n",
    "        }\n",
    "    else:\n",
    "        assistant_message = {\n",
    "            \"role\": \"assistant\",\n",
    "            \"content\": content,\n",
    "        }\n",
    "    messages.append(assistant_message)"
   ]
  },
  {
   "cell_type": "code",
   "execution_count": 16,
   "metadata": {},
   "outputs": [],
   "source": [
    "# with tool call\n",
    "\n",
    "messages = []\n",
    "\n",
    "add_user_message(messages, \"What time is it?\")\n",
    "text, parts = chat(messages, tools=[get_current_datetime_schema])"
   ]
  },
  {
   "cell_type": "code",
   "execution_count": 17,
   "metadata": {},
   "outputs": [
    {
     "data": {
      "text/plain": [
       "[{'role': 'user', 'content': [{'text': 'What time is it?'}]},\n",
       " {'role': 'assistant',\n",
       "  'content': [{'text': \"I'll check the current time for you.\"},\n",
       "   {'toolUse': {'toolUseId': 'tooluse_O0WgCE_6TWuZIoxPTLwxpw',\n",
       "     'name': 'get_current_datetime',\n",
       "     'input': {'date_format': '%Y-%m-%d %H:%M:%S'}}}]}]"
      ]
     },
     "execution_count": 17,
     "metadata": {},
     "output_type": "execute_result"
    }
   ],
   "source": [
    "add_assistant_message(messages, parts)\n",
    "\n",
    "messages"
   ]
  },
  {
   "cell_type": "markdown",
   "metadata": {},
   "source": [
    "Sometimes, Claude might decide that it wants to run multiple tools, so it will give us multiple toolUse dictionaries in the contents. So when we want to run the tools, we should make sure to run all the toolUse parts."
   ]
  },
  {
   "cell_type": "markdown",
   "metadata": {},
   "source": [
    "# 4. Run Tool & Send Tool Result Part"
   ]
  },
  {
   "cell_type": "markdown",
   "metadata": {},
   "source": [
    "## Run Tool:"
   ]
  },
  {
   "cell_type": "code",
   "execution_count": 29,
   "metadata": {},
   "outputs": [],
   "source": [
    "# runs the specific tool based on the input it requires\n",
    "def run_tool(tool_name, tool_input):\n",
    "    # TODO: tutorial says to hard-code but there must be a better way\n",
    "    if tool_name == \"get_current_datetime\":\n",
    "        # we use the ** in the input because it is a dictionary input\n",
    "        return get_current_datetime(**tool_input)\n",
    "    else:\n",
    "        raise Exception(f\"Unknown tool name: {tool_name}\")"
   ]
  },
  {
   "cell_type": "code",
   "execution_count": 30,
   "metadata": {},
   "outputs": [
    {
     "name": "stdout",
     "output_type": "stream",
     "text": [
      "2025-09-07 22:31:10\n"
     ]
    }
   ],
   "source": [
    "# this is the function that goes thru each of the tools and calls the run_tool function\n",
    "def run_tools(parts):\n",
    "    tool_requests = [part for part in parts if \"toolUse\" in part]\n",
    "    tool_result_parts = []\n",
    "\n",
    "    for tool_request in tool_requests:\n",
    "        tool_use_id = tool_request[\"toolUse\"][\"toolUseId\"]\n",
    "        tool_name = tool_request[\"toolUse\"][\"name\"]\n",
    "        tool_input = tool_request[\"toolUse\"][\"input\"]\n",
    "\n",
    "        # print(f\"I need to run tool {tool_name} with args {tool_input}\")\n",
    "\n",
    "        tool_output = run_tool(tool_name, tool_input)\n",
    "        print(tool_output)\n",
    "\n",
    "run_tools(parts)"
   ]
  },
  {
   "cell_type": "markdown",
   "metadata": {},
   "source": [
    "## Tool Result Part\n",
    "\n",
    "Looks just like the tools use part:\n",
    "\n",
    "![tool result structure](./../../images/ToolResultPart.png)"
   ]
  },
  {
   "cell_type": "code",
   "execution_count": null,
   "metadata": {},
   "outputs": [
    {
     "data": {
      "text/plain": [
       "[{'toolResult': {'toolUseId': 'tooluse_O0WgCE_6TWuZIoxPTLwxpw',\n",
       "   'content': [{'text': '\"2025-09-07 22:53:03\"'}],\n",
       "   'status': 'success'}}]"
      ]
     },
     "execution_count": 33,
     "metadata": {},
     "output_type": "execute_result"
    }
   ],
   "source": [
    "import json\n",
    "\n",
    "# runs the specific tool based on the input it requires\n",
    "def run_tool(tool_name, tool_input):\n",
    "    # TODO: tutorial says to hard-code but there must be a better way\n",
    "    if tool_name == \"get_current_datetime\":\n",
    "        # we use the ** in the input because it is a dictionary input\n",
    "        return get_current_datetime(**tool_input)\n",
    "    else:\n",
    "        raise Exception(f\"Unknown tool name: {tool_name}\")\n",
    "\n",
    "# this is the function that goes thru each of the tools and calls the run_tool function\n",
    "def run_tools(parts):\n",
    "    tool_requests = [part for part in parts if \"toolUse\" in part]\n",
    "    tool_result_parts = []\n",
    "\n",
    "    for tool_request in tool_requests:\n",
    "        tool_use_id = tool_request[\"toolUse\"][\"toolUseId\"]\n",
    "        tool_name = tool_request[\"toolUse\"][\"name\"]\n",
    "        tool_input = tool_request[\"toolUse\"][\"input\"]\n",
    "\n",
    "        # print(f\"I need to run tool {tool_name} with args {tool_input}\")\n",
    "\n",
    "        try:\n",
    "            tool_output = run_tool(tool_name, tool_input)\n",
    "            tool_result_part = {\n",
    "                \"toolResult\": {\n",
    "                    \"toolUseId\": tool_use_id,\n",
    "                    # we use the json.dumps to stringify the output if it was a dictionary\n",
    "                    \"content\": [{\"text\": json.dumps(tool_output)}], \n",
    "                    \"status\": \"success\"\n",
    "                }\n",
    "            }\n",
    "        except Exception as e:\n",
    "            tool_result_part = {\n",
    "                \"toolResult\": {\n",
    "                    \"toolUseId\": tool_use_id,\n",
    "                    # we use the json.dumps to stringify the output if it was a dictionary\n",
    "                    \"content\": [{\"text\": f\"Error: {e}\"}],\n",
    "                    \"status\": \"error\"\n",
    "                }\n",
    "            }\n",
    "        \n",
    "        tool_result_parts.append(tool_result_part)\n",
    "    \n",
    "    return tool_result_parts\n",
    "\n",
    "run_tools(parts)"
   ]
  },
  {
   "cell_type": "markdown",
   "metadata": {},
   "source": [
    "# 5. Send Tool Result to Claude"
   ]
  },
  {
   "cell_type": "markdown",
   "metadata": {},
   "source": [
    "## Add Tool Result Into Messages List"
   ]
  },
  {
   "cell_type": "code",
   "execution_count": 34,
   "metadata": {},
   "outputs": [],
   "source": [
    "messages = []\n",
    "\n",
    "add_user_message(messages, \"What time is it?\")\n",
    "text, parts = chat(messages, tools=[get_current_datetime_schema])\n",
    "\n",
    "add_assistant_message(messages, parts)"
   ]
  },
  {
   "cell_type": "code",
   "execution_count": 35,
   "metadata": {},
   "outputs": [],
   "source": [
    "import json\n",
    "\n",
    "# runs the specific tool based on the input it requires\n",
    "def run_tool(tool_name, tool_input):\n",
    "    # TODO: tutorial says to hard-code but there must be a better way\n",
    "    if tool_name == \"get_current_datetime\":\n",
    "        # we use the ** in the input because it is a dictionary input\n",
    "        return get_current_datetime(**tool_input)\n",
    "    else:\n",
    "        raise Exception(f\"Unknown tool name: {tool_name}\")\n",
    "\n",
    "# this is the function that goes thru each of the tools and calls the run_tool function\n",
    "def run_tools(parts):\n",
    "    tool_requests = [part for part in parts if \"toolUse\" in part]\n",
    "    tool_result_parts = []\n",
    "\n",
    "    for tool_request in tool_requests:\n",
    "        tool_use_id = tool_request[\"toolUse\"][\"toolUseId\"]\n",
    "        tool_name = tool_request[\"toolUse\"][\"name\"]\n",
    "        tool_input = tool_request[\"toolUse\"][\"input\"]\n",
    "\n",
    "        # print(f\"I need to run tool {tool_name} with args {tool_input}\")\n",
    "\n",
    "        try:\n",
    "            tool_output = run_tool(tool_name, tool_input)\n",
    "            tool_result_part = {\n",
    "                \"toolResult\": {\n",
    "                    \"toolUseId\": tool_use_id,\n",
    "                    # we use the json.dumps to stringify the output if it was a dictionary\n",
    "                    \"content\": [{\"text\": json.dumps(tool_output)}], \n",
    "                    \"status\": \"success\"\n",
    "                }\n",
    "            }\n",
    "        except Exception as e:\n",
    "            tool_result_part = {\n",
    "                \"toolResult\": {\n",
    "                    \"toolUseId\": tool_use_id,\n",
    "                    # we use the json.dumps to stringify the output if it was a dictionary\n",
    "                    \"content\": [{\"text\": f\"Error: {e}\"}],\n",
    "                    \"status\": \"error\"\n",
    "                }\n",
    "            }\n",
    "        \n",
    "        tool_result_parts.append(tool_result_part)\n",
    "    \n",
    "    return tool_result_parts"
   ]
  },
  {
   "cell_type": "code",
   "execution_count": 36,
   "metadata": {},
   "outputs": [
    {
     "data": {
      "text/plain": [
       "[{'role': 'user', 'content': [{'text': 'What time is it?'}]},\n",
       " {'role': 'assistant',\n",
       "  'content': [{'text': \"I'll help you find out the current time. Let me check that for you.\"},\n",
       "   {'toolUse': {'toolUseId': 'tooluse_bbod_JYMTKawCgY4QiJbaQ',\n",
       "     'name': 'get_current_datetime',\n",
       "     'input': {'date_format': '%H:%M:%S'}}}]}]"
      ]
     },
     "execution_count": 36,
     "metadata": {},
     "output_type": "execute_result"
    }
   ],
   "source": [
    "messages"
   ]
  },
  {
   "cell_type": "code",
   "execution_count": 37,
   "metadata": {},
   "outputs": [],
   "source": [
    "add_user_message(messages, run_tools(parts))"
   ]
  },
  {
   "cell_type": "markdown",
   "metadata": {},
   "source": [
    "In the cell above, the `run_tools` method is called and the output is set to the 'contents' variable as a dictionary."
   ]
  },
  {
   "cell_type": "code",
   "execution_count": 38,
   "metadata": {},
   "outputs": [
    {
     "data": {
      "text/plain": [
       "[{'role': 'user', 'content': [{'text': 'What time is it?'}]},\n",
       " {'role': 'assistant',\n",
       "  'content': [{'text': \"I'll help you find out the current time. Let me check that for you.\"},\n",
       "   {'toolUse': {'toolUseId': 'tooluse_bbod_JYMTKawCgY4QiJbaQ',\n",
       "     'name': 'get_current_datetime',\n",
       "     'input': {'date_format': '%H:%M:%S'}}}]},\n",
       " {'role': 'user',\n",
       "  'content': [{'toolResult': {'toolUseId': 'tooluse_bbod_JYMTKawCgY4QiJbaQ',\n",
       "     'content': [{'text': '\"09:52:39\"'}],\n",
       "     'status': 'success'}}]}]"
      ]
     },
     "execution_count": 38,
     "metadata": {},
     "output_type": "execute_result"
    }
   ],
   "source": [
    "messages"
   ]
  },
  {
   "cell_type": "code",
   "execution_count": 39,
   "metadata": {},
   "outputs": [
    {
     "data": {
      "text/plain": [
       "'The current time is 09:52:39.'"
      ]
     },
     "execution_count": 39,
     "metadata": {},
     "output_type": "execute_result"
    }
   ],
   "source": [
    "text, parts = chat(messages, tools=[get_current_datetime_schema])\n",
    "\n",
    "text"
   ]
  },
  {
   "cell_type": "markdown",
   "metadata": {},
   "source": [
    "# Multi-Turn Conversations With Tools\n",
    "\n",
    "## Refactoring When 'stopReason' Is Not Tool Use\n",
    "\n",
    "In the above case, it was right to use the tool and then the result of running the tool was set in the content of the final user message. In case the user asks a question, which doesn't need tool use, based on our above logic, it would still create a tool_use call and get an empty response. \n",
    "\n"
   ]
  },
  {
   "cell_type": "code",
   "execution_count": 40,
   "metadata": {},
   "outputs": [],
   "source": [
    "# helper methods\n",
    "\n",
    "def add_user_message(messages, content):\n",
    "    # if the content is a string\n",
    "    if isinstance(content, str):\n",
    "        user_message = {\"role\": \"user\", \"content\": [{\"text\": content}]}\n",
    "    # if it is a dictionary\n",
    "    else:\n",
    "        user_message = {\"role\": \"user\", \"content\": content}\n",
    "    messages.append(user_message)\n",
    "\n",
    "\n",
    "def add_assistant_message(messages, content):\n",
    "    if isinstance(content, str):\n",
    "        assistant_message = {\n",
    "            \"role\": \"assistant\",\n",
    "            \"content\": [{\"text\": content}],\n",
    "        }\n",
    "    else:\n",
    "        assistant_message = {\n",
    "            \"role\": \"assistant\",\n",
    "            \"content\": content,\n",
    "        }\n",
    "    messages.append(assistant_message)\n",
    "\n",
    "def chat(messages, system=None, temperature=1.0, stop_sequences=[], tools=None):\n",
    "    params = {\n",
    "        \"modelId\": model_id,\n",
    "        \"messages\": messages,\n",
    "        \"inferenceConfig\": {\n",
    "            \"temperature\": temperature,\n",
    "            \"stopSequences\": stop_sequences,\n",
    "        },\n",
    "    }\n",
    "\n",
    "    if system:\n",
    "        params[\"system\"] = [{\"text\": system}]\n",
    "\n",
    "    if tools:\n",
    "        params[\"toolConfig\"] = {\"tools\": tools, \"toolChoice\": {\"auto\": {}}}\n",
    "        # toolChoice \n",
    "            # - auto is the default so technically we don't need to mention it.\n",
    "            # - other options:\n",
    "                # - \"any\": {}\n",
    "                # - \"tool\": {\"name\": \"tool-name\"}\n",
    "\n",
    "    response = client.converse(**params)\n",
    "    \n",
    "    parts = response[\"output\"][\"message\"][\"content\"]\n",
    "\n",
    "    # parts looks like this:\n",
    "    # \"content\": [\n",
    "    #             {\"text\": \"I can help you find out the current time. Let me check that for you.\"}, \n",
    "    #             {\"toolUse\": {\n",
    "    #                 \"toolUseId\": \"tooluse_0-ZlzEmcRNaHuiNSnjVw7A\", \n",
    "    #                 \"name\": \"get_current_datetime\", \n",
    "    #                 \"input\": {\"date_format\": \"%H:%M:%S\"}\n",
    "    #             }}\n",
    "    #         ]\n",
    "\n",
    "    return {\n",
    "        \"parts\": parts,\n",
    "        \"stop_reason\": response[\"stopReason\"],\n",
    "        # combining all the texts with a new line separator\n",
    "        \"text\": \"\\n\".join([p[\"text\"] for p in parts if \"text\" in p ])\n",
    "    }"
   ]
  },
  {
   "cell_type": "code",
   "execution_count": 41,
   "metadata": {},
   "outputs": [],
   "source": [
    "def run_conversation(messages):\n",
    "    while True:\n",
    "\n",
    "        result = chat(messages=messages, tools=[get_current_datetime_schema])\n",
    "\n",
    "        add_assistant_message(messages, result[\"parts\"])\n",
    "        print(result[\"text\"])\n",
    "\n",
    "        if(result[\"stop_reason\"] != \"tool_use\"):\n",
    "            break\n",
    "\n",
    "        tool_result_parts = run_tools(result[\"parts\"])\n",
    "        add_user_message(messages, tool_result_parts)\n",
    "    \n",
    "    return messages"
   ]
  },
  {
   "cell_type": "markdown",
   "metadata": {},
   "source": [
    "### Testing With Tool Use"
   ]
  },
  {
   "cell_type": "code",
   "execution_count": 42,
   "metadata": {},
   "outputs": [
    {
     "name": "stdout",
     "output_type": "stream",
     "text": [
      "I can check the current time for you. Let me retrieve that information.\n",
      "The current date and time is 2025-09-08 10:34:31 (September 8, 2025 at 10:34:31 AM) in the system's local time zone.\n"
     ]
    },
    {
     "data": {
      "text/plain": [
       "[{'role': 'user', 'content': [{'text': 'What time is it?'}]},\n",
       " {'role': 'assistant',\n",
       "  'content': [{'text': 'I can check the current time for you. Let me retrieve that information.'},\n",
       "   {'toolUse': {'toolUseId': 'tooluse_0WTo_DeCSCiWAZbAqyRMVQ',\n",
       "     'name': 'get_current_datetime',\n",
       "     'input': {'date_format': '%Y-%m-%d %H:%M:%S'}}}]},\n",
       " {'role': 'user',\n",
       "  'content': [{'toolResult': {'toolUseId': 'tooluse_0WTo_DeCSCiWAZbAqyRMVQ',\n",
       "     'content': [{'text': '\"2025-09-08 10:34:31\"'}],\n",
       "     'status': 'success'}}]},\n",
       " {'role': 'assistant',\n",
       "  'content': [{'text': \"The current date and time is 2025-09-08 10:34:31 (September 8, 2025 at 10:34:31 AM) in the system's local time zone.\"}]}]"
      ]
     },
     "execution_count": 42,
     "metadata": {},
     "output_type": "execute_result"
    }
   ],
   "source": [
    "messages = []\n",
    "add_user_message(messages, \"What time is it?\")\n",
    "run_conversation(messages)"
   ]
  },
  {
   "cell_type": "markdown",
   "metadata": {},
   "source": [
    "### Testing Without Tool Use"
   ]
  },
  {
   "cell_type": "code",
   "execution_count": 43,
   "metadata": {},
   "outputs": [
    {
     "name": "stdout",
     "output_type": "stream",
     "text": [
      "I don't need any special tools to answer this basic math question for you.\n",
      "\n",
      "1 + 1 = 2\n",
      "\n",
      "This is a fundamental arithmetic operation that adds two values of 1 together to get 2.\n"
     ]
    },
    {
     "data": {
      "text/plain": [
       "[{'role': 'user', 'content': [{'text': 'What is 1+1?'}]},\n",
       " {'role': 'assistant',\n",
       "  'content': [{'text': \"I don't need any special tools to answer this basic math question for you.\\n\\n1 + 1 = 2\\n\\nThis is a fundamental arithmetic operation that adds two values of 1 together to get 2.\"}]}]"
      ]
     },
     "execution_count": 43,
     "metadata": {},
     "output_type": "execute_result"
    }
   ],
   "source": [
    "messages = []\n",
    "add_user_message(messages, \"What is 1+1?\")\n",
    "run_conversation(messages)"
   ]
  },
  {
   "cell_type": "markdown",
   "metadata": {},
   "source": [
    "# Multiple Tools"
   ]
  },
  {
   "cell_type": "code",
   "execution_count": 48,
   "metadata": {},
   "outputs": [],
   "source": [
    "def run_tool(tool_name, tool_input):\n",
    "    # TODO: tutorial says to hard-code but there must be a better way\n",
    "    if tool_name == \"get_current_datetime\":\n",
    "        # we use the ** in the input because it is a dictionary input\n",
    "        return get_current_datetime(**tool_input)\n",
    "    elif tool_name == \"set_reminder\":\n",
    "        return set_reminder(**tool_input)\n",
    "    elif tool_name == \"add_duration_to_datetime\":\n",
    "        return add_duration_to_datetime(**tool_input)\n",
    "    else:\n",
    "        raise Exception(f\"Unknown tool name: {tool_name}\")"
   ]
  },
  {
   "cell_type": "code",
   "execution_count": 49,
   "metadata": {},
   "outputs": [],
   "source": [
    "def run_conversation(messages):\n",
    "    while True:\n",
    "\n",
    "        result = chat(messages=messages, tools=[\n",
    "            get_current_datetime_schema,\n",
    "            add_duration_to_datetime_schema,\n",
    "            set_reminder_schema\n",
    "            ]\n",
    "        )\n",
    "\n",
    "        add_assistant_message(messages, result[\"parts\"])\n",
    "        print(result[\"text\"])\n",
    "\n",
    "        if(result[\"stop_reason\"] != \"tool_use\"):\n",
    "            break\n",
    "\n",
    "        tool_result_parts = run_tools(result[\"parts\"])\n",
    "        add_user_message(messages, tool_result_parts)\n",
    "    \n",
    "    return messages"
   ]
  },
  {
   "cell_type": "code",
   "execution_count": 50,
   "metadata": {},
   "outputs": [
    {
     "name": "stdout",
     "output_type": "stream",
     "text": [
      "I'll help you set a reminder to shop from Dollarama in 5 days. To do this, I need to:\n",
      "\n",
      "1. Get the current date and time\n",
      "2. Calculate the date 5 days from now\n",
      "3. Set the reminder with the appropriate content and timestamp\n",
      "\n",
      "Let me set this up for you:\n",
      "Now I'll calculate the date 5 days from today:\n",
      "Now I'll set the reminder:\n",
      "----\n",
      "Setting the following reminder for 2025-09-13T11:02:42:\n",
      "Shop from Dollarama\n",
      "----\n",
      "Perfect! I've set a reminder for you to \"Shop from Dollarama\" on Saturday, September 13, 2025 at 11:02:42 AM. You'll receive a notification at that time to remind you.\n"
     ]
    },
    {
     "data": {
      "text/plain": [
       "[{'role': 'user',\n",
       "  'content': [{'text': 'Set a reminder to shop from Dollarama in 5 days.'}]},\n",
       " {'role': 'assistant',\n",
       "  'content': [{'text': \"I'll help you set a reminder to shop from Dollarama in 5 days. To do this, I need to:\\n\\n1. Get the current date and time\\n2. Calculate the date 5 days from now\\n3. Set the reminder with the appropriate content and timestamp\\n\\nLet me set this up for you:\"},\n",
       "   {'toolUse': {'toolUseId': 'tooluse_-4IgMgVdQ2evV8Z7V7b3Ig',\n",
       "     'name': 'get_current_datetime',\n",
       "     'input': {'date_format': '%Y-%m-%d %H:%M:%S'}}}]},\n",
       " {'role': 'user',\n",
       "  'content': [{'toolResult': {'toolUseId': 'tooluse_-4IgMgVdQ2evV8Z7V7b3Ig',\n",
       "     'content': [{'text': '\"2025-09-08 11:02:42\"'}],\n",
       "     'status': 'success'}}]},\n",
       " {'role': 'assistant',\n",
       "  'content': [{'text': \"Now I'll calculate the date 5 days from today:\"},\n",
       "   {'toolUse': {'toolUseId': 'tooluse_icI9ptJbT8uJ1W9wyKJNzg',\n",
       "     'name': 'add_duration_to_datetime',\n",
       "     'input': {'datetime_str': '2025-09-08 11:02:42',\n",
       "      'duration': 5,\n",
       "      'unit': 'days',\n",
       "      'input_format': '%Y-%m-%d %H:%M:%S'}}}]},\n",
       " {'role': 'user',\n",
       "  'content': [{'toolResult': {'toolUseId': 'tooluse_icI9ptJbT8uJ1W9wyKJNzg',\n",
       "     'content': [{'text': '\"Saturday, September 13, 2025 11:02:42 AM\"'}],\n",
       "     'status': 'success'}}]},\n",
       " {'role': 'assistant',\n",
       "  'content': [{'text': \"Now I'll set the reminder:\"},\n",
       "   {'toolUse': {'toolUseId': 'tooluse_kgtEcBAGQCmOXtYM2Tqj6Q',\n",
       "     'name': 'set_reminder',\n",
       "     'input': {'content': 'Shop from Dollarama',\n",
       "      'timestamp': '2025-09-13T11:02:42'}}}]},\n",
       " {'role': 'user',\n",
       "  'content': [{'toolResult': {'toolUseId': 'tooluse_kgtEcBAGQCmOXtYM2Tqj6Q',\n",
       "     'content': [{'text': 'null'}],\n",
       "     'status': 'success'}}]},\n",
       " {'role': 'assistant',\n",
       "  'content': [{'text': 'Perfect! I\\'ve set a reminder for you to \"Shop from Dollarama\" on Saturday, September 13, 2025 at 11:02:42 AM. You\\'ll receive a notification at that time to remind you.'}]}]"
      ]
     },
     "execution_count": 50,
     "metadata": {},
     "output_type": "execute_result"
    }
   ],
   "source": [
    "messages = []\n",
    "add_user_message(messages, \"Set a reminder to shop from Dollarama in 5 days.\")\n",
    "run_conversation(messages)"
   ]
  }
 ],
 "metadata": {
  "kernelspec": {
   "display_name": ".venv",
   "language": "python",
   "name": "python3"
  },
  "language_info": {
   "codemirror_mode": {
    "name": "ipython",
    "version": 3
   },
   "file_extension": ".py",
   "mimetype": "text/x-python",
   "name": "python",
   "nbconvert_exporter": "python",
   "pygments_lexer": "ipython3",
   "version": "3.13.1"
  }
 },
 "nbformat": 4,
 "nbformat_minor": 2
}
