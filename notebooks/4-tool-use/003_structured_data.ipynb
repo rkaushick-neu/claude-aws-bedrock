{
 "cells": [
  {
   "cell_type": "code",
   "execution_count": null,
   "metadata": {},
   "outputs": [],
   "source": [
    "# Client Setup\n",
    "import boto3\n",
    "\n",
    "client = boto3.client(\"bedrock-runtime\", region_name=\"us-east-2\")\n",
    "model_id = \"us.anthropic.claude-3-7-sonnet-20250219-v1:0\""
   ]
  },
  {
   "cell_type": "code",
   "execution_count": 11,
   "metadata": {},
   "outputs": [],
   "source": [
    "# Helper functions\n",
    "\n",
    "\n",
    "def add_user_message(messages, content):\n",
    "    if isinstance(content, str):\n",
    "        user_message = {\"role\": \"user\", \"content\": [{\"text\": content}]}\n",
    "    else:\n",
    "        user_message = {\"role\": \"user\", \"content\": content}\n",
    "    messages.append(user_message)\n",
    "\n",
    "\n",
    "def add_assistant_message(messages, content):\n",
    "    if isinstance(content, str):\n",
    "        assistant_message = {\n",
    "            \"role\": \"assistant\",\n",
    "            \"content\": [{\"text\": content}],\n",
    "        }\n",
    "    else:\n",
    "        assistant_message = {\"role\": \"assistant\", \"content\": content}\n",
    "\n",
    "    messages.append(assistant_message)\n",
    "\n",
    "\n",
    "def chat(\n",
    "    messages,\n",
    "    system=None,\n",
    "    temperature=1.0,\n",
    "    stop_sequences=[],\n",
    "    tools=None,\n",
    "    tool_choice=\"auto\",\n",
    "):\n",
    "    params = {\n",
    "        \"modelId\": model_id,\n",
    "        \"messages\": messages,\n",
    "        \"inferenceConfig\": {\n",
    "            \"temperature\": temperature,\n",
    "            \"stopSequences\": stop_sequences,\n",
    "        },\n",
    "    }\n",
    "\n",
    "    if system:\n",
    "        params[\"system\"] = [{\"text\": system}]\n",
    "\n",
    "    tool_choices = {\n",
    "        \"auto\": {\"auto\": {}},\n",
    "        \"any\": {\"any\": {}},\n",
    "    }\n",
    "    if tools:\n",
    "        choice = tool_choices.get(tool_choice, {\"tool\": {\"name\": tool_choice}})\n",
    "        params[\"toolConfig\"] = {\"tools\": tools, \"toolChoice\": choice}\n",
    "\n",
    "    # print(params)\n",
    "    response = client.converse(**params)\n",
    "    parts = response[\"output\"][\"message\"][\"content\"]\n",
    "\n",
    "    return {\n",
    "        \"parts\": parts,\n",
    "        \"stop_reason\": response[\"stopReason\"],\n",
    "        \"text\": \"\\n\".join([p[\"text\"] for p in parts if \"text\" in p]),\n",
    "    }"
   ]
  },
  {
   "cell_type": "code",
   "execution_count": 3,
   "metadata": {},
   "outputs": [],
   "source": [
    "# Tool Schemas\n",
    "\n",
    "article_details_schema = {\n",
    "    \"toolSpec\": {\n",
    "        \"name\": \"article_details\",\n",
    "        \"description\": \"This tool should be called with details about an article. It accepts information about the article's title, author, and related topics.\",\n",
    "        \"inputSchema\": {\n",
    "            \"json\": {\n",
    "                \"type\": \"object\",\n",
    "                \"properties\": {\n",
    "                    \"title\": {\n",
    "                        \"type\": \"string\",\n",
    "                        \"description\": \"The title of the article. Can be left empty.\",\n",
    "                    },\n",
    "                    \"author\": {\n",
    "                        \"type\": \"string\",\n",
    "                        \"description\": \"The name of the article's author. Can be left empty.\",\n",
    "                    },\n",
    "                    \"topics\": {\n",
    "                        \"type\": \"array\",\n",
    "                        \"items\": {\"type\": \"string\"},\n",
    "                        \"description\": \"A list of topics or categories that the article covers. Can be an empty list.\",\n",
    "                    },\n",
    "                },\n",
    "            }\n",
    "        },\n",
    "    }\n",
    "}\n",
    "\n",
    "to_json_schema = {\n",
    "    \"toolSpec\": {\n",
    "        \"name\": \"to_json\",\n",
    "        \"description\": \"This tool processes any JSON data and can be used for generating structured content, transforming information, or creating any JSON-based output needed for your task.\",\n",
    "        \"inputSchema\": {\n",
    "            \"json\": {\"type\": \"object\", \"additionalProperties\": True}\n",
    "        },\n",
    "    }\n",
    "}"
   ]
  },
  {
   "cell_type": "code",
   "execution_count": 4,
   "metadata": {},
   "outputs": [
    {
     "data": {
      "text/plain": [
       "'# Paradigm Shifts in Modern Computational Theory: A Brief Overview\\n\\nBy Dr. Eleanor J. Harrington\\n\\nThe evolution of computer science has been marked by significant paradigm shifts that fundamentally reshape our approach to computation and its applications across disciplines. While early computational frameworks were predominantly concerned with algorithmic efficiency measured through asymptotic analysis, contemporary research increasingly embraces multidimensional optimization that balances performance against energy consumption, ethical considerations, and human-centered design principles. This integrative approach has catalyzed breakthroughs in quantum computing, where researchers have recently demonstrated quantum advantage in specific problem domains despite ongoing challenges with qubit stability, and in artificial intelligence, where large language models exhibit emergent capabilities that transcend their explicit programming. The field now stands at a critical juncture where traditional boundaries between hardware and software engineering are dissolving in favor of full-stack perspectives that acknowledge the interdependence of all system layers, from transistor physics to user interfaces, thus necessitating interdisciplinary collaboration that spans computer architecture, information theory, cognitive science, and increasingly, disciplines previously considered peripheral to computational theory.'"
      ]
     },
     "execution_count": 4,
     "metadata": {},
     "output_type": "execute_result"
    }
   ],
   "source": [
    "messages = []\n",
    "\n",
    "add_user_message(\n",
    "    messages,\n",
    "    \"Write a one-paragraph scholarly article about computer science. Include a title and author name\",\n",
    ")\n",
    "\n",
    "result = chat(messages)\n",
    "\n",
    "add_assistant_message(messages, result[\"text\"])\n",
    "\n",
    "result[\"text\"]"
   ]
  },
  {
   "cell_type": "code",
   "execution_count": 12,
   "metadata": {},
   "outputs": [
    {
     "data": {
      "text/plain": [
       "{'parts': [{'toolUse': {'toolUseId': 'tooluse_olZnRyR4QpCiuky3ZvvIGQ',\n",
       "    'name': 'article_details',\n",
       "    'input': {'author': 'Dr. Eleanor J. Harrington',\n",
       "     'title': 'Paradigm Shifts in Modern Computational Theory: A Brief Overview',\n",
       "     'topics': ['computer science',\n",
       "      'computational theory',\n",
       "      'quantum computing',\n",
       "      'artificial intelligence',\n",
       "      'multidimensional optimization',\n",
       "      'interdisciplinary collaboration',\n",
       "      'large language models',\n",
       "      'human-centered design',\n",
       "      'full-stack perspectives']}}}],\n",
       " 'stop_reason': 'tool_use',\n",
       " 'text': ''}"
      ]
     },
     "execution_count": 12,
     "metadata": {},
     "output_type": "execute_result"
    }
   ],
   "source": [
    "messages = []\n",
    "\n",
    "add_user_message(messages, \n",
    "    f\"\"\"\n",
    "Analyze the article below and extract key data. Then call the article_details tool.\n",
    "\n",
    "<article_text>\n",
    "{result[\"text\"]}\n",
    "</article_text>\n",
    "\"\"\",\n",
    ")\n",
    "\n",
    "# Pass the actual tool schema object, not a string\n",
    "json_result = chat(messages, tools=[article_details_schema], tool_choice=\"article_details\")\n",
    "json_result"
   ]
  }
 ],
 "metadata": {
  "kernelspec": {
   "display_name": ".venv",
   "language": "python",
   "name": "python3"
  },
  "language_info": {
   "codemirror_mode": {
    "name": "ipython",
    "version": 3
   },
   "file_extension": ".py",
   "mimetype": "text/x-python",
   "name": "python",
   "nbconvert_exporter": "python",
   "pygments_lexer": "ipython3",
   "version": "3.13.1"
  }
 },
 "nbformat": 4,
 "nbformat_minor": 2
}
