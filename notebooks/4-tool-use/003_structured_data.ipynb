{
 "cells": [
  {
   "cell_type": "markdown",
   "metadata": {},
   "source": [
    "# Structured Output With Tool Use"
   ]
  },
  {
   "cell_type": "code",
   "execution_count": 3,
   "metadata": {},
   "outputs": [],
   "source": [
    "# Client Setup\n",
    "import boto3\n",
    "from dotenv import load_dotenv\n",
    "import os\n",
    "\n",
    "load_dotenv()\n",
    "region = os.getenv(\"AWS_REGION\")\n",
    "\n",
    "client = boto3.client(\"bedrock-runtime\", region_name=region)\n",
    "model_id = \"us.anthropic.claude-3-7-sonnet-20250219-v1:0\""
   ]
  },
  {
   "cell_type": "code",
   "execution_count": 4,
   "metadata": {},
   "outputs": [],
   "source": [
    "# Helper functions\n",
    "\n",
    "\n",
    "def add_user_message(messages, content):\n",
    "    if isinstance(content, str):\n",
    "        user_message = {\"role\": \"user\", \"content\": [{\"text\": content}]}\n",
    "    else:\n",
    "        user_message = {\"role\": \"user\", \"content\": content}\n",
    "    messages.append(user_message)\n",
    "\n",
    "\n",
    "def add_assistant_message(messages, content):\n",
    "    if isinstance(content, str):\n",
    "        assistant_message = {\n",
    "            \"role\": \"assistant\",\n",
    "            \"content\": [{\"text\": content}],\n",
    "        }\n",
    "    else:\n",
    "        assistant_message = {\"role\": \"assistant\", \"content\": content}\n",
    "\n",
    "    messages.append(assistant_message)\n",
    "\n",
    "\n",
    "def chat(\n",
    "    messages,\n",
    "    system=None,\n",
    "    temperature=1.0,\n",
    "    stop_sequences=[],\n",
    "    tools=None,\n",
    "    tool_choice=\"auto\",\n",
    "):\n",
    "    params = {\n",
    "        \"modelId\": model_id,\n",
    "        \"messages\": messages,\n",
    "        \"inferenceConfig\": {\n",
    "            \"temperature\": temperature,\n",
    "            \"stopSequences\": stop_sequences,\n",
    "        },\n",
    "    }\n",
    "\n",
    "    if system:\n",
    "        params[\"system\"] = [{\"text\": system}]\n",
    "\n",
    "    tool_choices = {\n",
    "        \"auto\": {\"auto\": {}},\n",
    "        \"any\": {\"any\": {}},\n",
    "    }\n",
    "    if tools:\n",
    "        choice = tool_choices.get(tool_choice, {\"tool\": {\"name\": tool_choice}})\n",
    "        params[\"toolConfig\"] = {\"tools\": tools, \"toolChoice\": choice}\n",
    "\n",
    "    # print(params)\n",
    "    response = client.converse(**params)\n",
    "    parts = response[\"output\"][\"message\"][\"content\"]\n",
    "\n",
    "    return {\n",
    "        \"parts\": parts,\n",
    "        \"stop_reason\": response[\"stopReason\"],\n",
    "        \"text\": \"\\n\".join([p[\"text\"] for p in parts if \"text\" in p]),\n",
    "    }"
   ]
  },
  {
   "cell_type": "code",
   "execution_count": 5,
   "metadata": {},
   "outputs": [],
   "source": [
    "# Tool Schemas\n",
    "\n",
    "article_details_schema = {\n",
    "    \"toolSpec\": {\n",
    "        \"name\": \"article_details\",\n",
    "        \"description\": \"This tool should be called with details about an article. It accepts information about the article's title, author, and related topics.\",\n",
    "        \"inputSchema\": {\n",
    "            \"json\": {\n",
    "                \"type\": \"object\",\n",
    "                \"properties\": {\n",
    "                    \"title\": {\n",
    "                        \"type\": \"string\",\n",
    "                        \"description\": \"The title of the article. Can be left empty.\",\n",
    "                    },\n",
    "                    \"author\": {\n",
    "                        \"type\": \"string\",\n",
    "                        \"description\": \"The name of the article's author. Can be left empty.\",\n",
    "                    },\n",
    "                    \"topics\": {\n",
    "                        \"type\": \"array\",\n",
    "                        \"items\": {\"type\": \"string\"},\n",
    "                        \"description\": \"A list of topics or categories that the article covers. Can be an empty list.\",\n",
    "                    },\n",
    "                },\n",
    "            }\n",
    "        },\n",
    "    }\n",
    "}\n",
    "\n",
    "# flexible way of getting any type of structure out of Claude\n",
    "to_json_schema = {\n",
    "    \"toolSpec\": {\n",
    "        \"name\": \"to_json\",\n",
    "        \"description\": \"This tool processes any JSON data and can be used for generating structured content, transforming information, or creating any JSON-based output needed for your task.\",\n",
    "        \"inputSchema\": {\n",
    "            \"json\": {\"type\": \"object\", \"additionalProperties\": True}\n",
    "        },\n",
    "    }\n",
    "}"
   ]
  },
  {
   "cell_type": "code",
   "execution_count": 6,
   "metadata": {},
   "outputs": [
    {
     "data": {
      "text/plain": [
       "'# The Evolution of Computational Paradigms in Modern Computing\\n\\nBy Dr. Eleanor R. Harrington\\n\\nThe field of computer science has undergone remarkable transformation since its theoretical inception in the early 20th century, evolving from mathematical abstractions to tangible systems that permeate virtually every aspect of contemporary society. This metamorphosis has been characterized by concurrent advancements in both theoretical frameworks and practical implementations, with particular acceleration occurring in the domains of artificial intelligence, distributed systems, and quantum computation. These developments have not only expanded the boundaries of computational capability but have fundamentally altered the relationship between humans and machines, introducing novel ethical considerations regarding privacy, autonomy, and the nature of intelligence itself. As we progress further into an era where computational systems increasingly mediate human experience, the discipline faces the dual challenge of advancing technical innovation while simultaneously developing robust frameworks to ensure that such progress aligns with broader societal values and enhances human potential rather than diminishing it.'"
      ]
     },
     "execution_count": 6,
     "metadata": {},
     "output_type": "execute_result"
    }
   ],
   "source": [
    "messages = []\n",
    "\n",
    "add_user_message(\n",
    "    messages,\n",
    "    \"Write a one-paragraph scholarly article about computer science. Include a title and author name\",\n",
    ")\n",
    "\n",
    "result = chat(messages)\n",
    "\n",
    "add_assistant_message(messages, result[\"text\"])\n",
    "\n",
    "result[\"text\"]"
   ]
  },
  {
   "cell_type": "markdown",
   "metadata": {},
   "source": [
    "## Using a Fixed Schema: 'article_details_schema'"
   ]
  },
  {
   "cell_type": "code",
   "execution_count": 12,
   "metadata": {},
   "outputs": [
    {
     "data": {
      "text/plain": [
       "{'parts': [{'toolUse': {'toolUseId': 'tooluse_olZnRyR4QpCiuky3ZvvIGQ',\n",
       "    'name': 'article_details',\n",
       "    'input': {'author': 'Dr. Eleanor J. Harrington',\n",
       "     'title': 'Paradigm Shifts in Modern Computational Theory: A Brief Overview',\n",
       "     'topics': ['computer science',\n",
       "      'computational theory',\n",
       "      'quantum computing',\n",
       "      'artificial intelligence',\n",
       "      'multidimensional optimization',\n",
       "      'interdisciplinary collaboration',\n",
       "      'large language models',\n",
       "      'human-centered design',\n",
       "      'full-stack perspectives']}}}],\n",
       " 'stop_reason': 'tool_use',\n",
       " 'text': ''}"
      ]
     },
     "execution_count": 12,
     "metadata": {},
     "output_type": "execute_result"
    }
   ],
   "source": [
    "messages = []\n",
    "\n",
    "add_user_message(messages, \n",
    "    f\"\"\"\n",
    "Analyze the article below and extract key data. Then call the article_details tool.\n",
    "\n",
    "<article_text>\n",
    "{result[\"text\"]}\n",
    "</article_text>\n",
    "\"\"\",\n",
    ")\n",
    "\n",
    "# Pass the actual tool schema object, not a string\n",
    "json_result = chat(messages, tools=[article_details_schema], tool_choice=\"article_details\")\n",
    "json_result"
   ]
  },
  {
   "cell_type": "markdown",
   "metadata": {},
   "source": [
    "## Using a Flexible Schema: 'to_json_schema'"
   ]
  },
  {
   "cell_type": "code",
   "execution_count": 7,
   "metadata": {},
   "outputs": [
    {
     "data": {
      "text/plain": [
       "{'parts': [{'toolUse': {'toolUseId': 'tooluse_ccaJfgTUR-a-Hv0RUjVkSA',\n",
       "    'name': 'to_json',\n",
       "    'input': {'title': 'The Evolution of Computational Paradigms in Modern Computing',\n",
       "     'author': 'Dr. Eleanor R. Harrington',\n",
       "     'topics': ['artificial intelligence',\n",
       "      'distributed systems',\n",
       "      'quantum computation',\n",
       "      'ethics',\n",
       "      'privacy',\n",
       "      'autonomy',\n",
       "      'intelligence',\n",
       "      'human-machine relationship'],\n",
       "     'num_topics': 8}}}],\n",
       " 'stop_reason': 'tool_use',\n",
       " 'text': ''}"
      ]
     },
     "execution_count": 7,
     "metadata": {},
     "output_type": "execute_result"
    }
   ],
   "source": [
    "messages = []\n",
    "\n",
    "add_user_message(messages, \n",
    "f\"\"\"\n",
    "Analyze the article below and extract key data. Then call the to_json tool.\n",
    "\n",
    "<article_text>\n",
    "{ result['text'] }\n",
    "</article_text>\n",
    "\n",
    "When you call to_json, pass in the following structure:\n",
    "{{\n",
    "        \"title\": str # title of the article,\n",
    "        \"author\": str # author of the article,\n",
    "        \"topics\": List[str] # List of topics mentioned in the article,\n",
    "        \"num_topics\": int # Number of topics mentioned\n",
    "}}\n",
    "\"\"\",)\n",
    "\n",
    "# we use the double curly brackets to escape the curly brackets which are required to show the JSON schema\n",
    "\n",
    "# force Claude to use the to_json tool with tool_choice\n",
    "flexible_result = chat(messages, tools=[to_json_schema], tool_choice=\"to_json\")\n",
    "flexible_result"
   ]
  },
  {
   "cell_type": "markdown",
   "metadata": {},
   "source": [
    "We can easily change the structure of the required format as we need directly in the prompt. We don't need to perform any modifications in the `to_json_schema`."
   ]
  }
 ],
 "metadata": {
  "kernelspec": {
   "display_name": ".venv",
   "language": "python",
   "name": "python3"
  },
  "language_info": {
   "codemirror_mode": {
    "name": "ipython",
    "version": 3
   },
   "file_extension": ".py",
   "mimetype": "text/x-python",
   "name": "python",
   "nbconvert_exporter": "python",
   "pygments_lexer": "ipython3",
   "version": "3.13.1"
  }
 },
 "nbformat": 4,
 "nbformat_minor": 2
}
