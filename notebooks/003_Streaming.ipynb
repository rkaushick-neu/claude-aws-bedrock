{
 "cells": [
  {
   "cell_type": "markdown",
   "metadata": {},
   "source": [
    "# Streaming with Converse Stream\n",
    "\n",
    "We can stream data from Bedrock using the **converse_stream** function:\n",
    "\n",
    "![Streaming text as it gets generated](https://everpath-course-content.s3-accelerate.amazonaws.com/instructor%2Fa46l9irobhg0f5webscixp0bs%2Fpublic%2F1748557673%2F05_-_008_-_Streaming_03.1748557673079.png)"
   ]
  },
  {
   "cell_type": "markdown",
   "metadata": {},
   "source": [
    "## Steam Events\n",
    "\n",
    "The stream event contains many event types within the response stream object:\n",
    "\n",
    "![Stream event components](https://everpath-course-content.s3-accelerate.amazonaws.com/instructor%2Fa46l9irobhg0f5webscixp0bs%2Fpublic%2F1748557673%2F05_-_008_-_Streaming_12.1748557673618.png)"
   ]
  },
  {
   "cell_type": "code",
   "execution_count": 1,
   "metadata": {},
   "outputs": [],
   "source": [
    "import boto3"
   ]
  },
  {
   "cell_type": "code",
   "execution_count": 4,
   "metadata": {},
   "outputs": [],
   "source": [
    "client = boto3.client(\"bedrock-runtime\", region_name=\"us-east-2\")\n",
    "model_id = \"us.anthropic.claude-3-7-sonnet-20250219-v1:0\"\n",
    "\n",
    "\n",
    "def add_user_message(messages, text):\n",
    "    user_message = {\"role\": \"user\", \"content\": [{\"text\": text}]}\n",
    "    messages.append(user_message)\n",
    "\n",
    "\n",
    "def add_assistant_message(messages, text):\n",
    "    assistant_message = {\"role\": \"assistant\", \"content\": [{\"text\": text}]}\n",
    "    messages.append(assistant_message)\n",
    "\n",
    "\n",
    "def chat(messages, system=None, temperature=1.0):\n",
    "    params = {\n",
    "        \"modelId\": model_id,\n",
    "        \"messages\": messages,\n",
    "        \"inferenceConfig\": {\"temperature\": temperature},\n",
    "    }\n",
    "\n",
    "    if system:\n",
    "        params[\"system\"] = [{\"text\": system}]\n",
    "\n",
    "    response = client.converse(**params)\n",
    "\n",
    "    return response[\"output\"][\"message\"][\"content\"][0][\"text\"]"
   ]
  },
  {
   "cell_type": "code",
   "execution_count": 13,
   "metadata": {},
   "outputs": [
    {
     "name": "stdout",
     "output_type": "stream",
     "text": [
      "{'ResponseMetadata': {'RequestId': '4baa0075-f4ae-4eee-bb16-db1fe1c3f724', 'HTTPStatusCode': 200, 'HTTPHeaders': {'date': 'Sat, 23 Aug 2025 15:33:59 GMT', 'content-type': 'application/vnd.amazon.eventstream', 'transfer-encoding': 'chunked', 'connection': 'keep-alive', 'x-amzn-requestid': '4baa0075-f4ae-4eee-bb16-db1fe1c3f724'}, 'RetryAttempts': 0}, 'stream': <botocore.eventstream.EventStream object at 0x10b9a7b10>}\n"
     ]
    }
   ],
   "source": [
    "messages = []\n",
    "\n",
    "add_user_message(messages, \"Write a 1 sentence description of a fake database\")\n",
    "response = client.converse_stream(messages=messages, modelId=model_id)\n",
    "\n",
    "print(response)"
   ]
  },
  {
   "cell_type": "code",
   "execution_count": 11,
   "metadata": {},
   "outputs": [
    {
     "name": "stdout",
     "output_type": "stream",
     "text": [
      "<botocore.eventstream.EventStream object at 0x10b0ae270>\n"
     ]
    }
   ],
   "source": [
    "# printing the response stream object\n",
    "print(response[\"stream\"])"
   ]
  },
  {
   "cell_type": "code",
   "execution_count": 16,
   "metadata": {},
   "outputs": [
    {
     "name": "stdout",
     "output_type": "stream",
     "text": [
      "{'messageStart': {'role': 'assistant'}}\n",
      "{'contentBlockDelta': {'delta': {'text': 'F'}, 'contentBlockIndex': 0}}\n",
      "{'contentBlockDelta': {'delta': {'text': 'al'}, 'contentBlockIndex': 0}}\n",
      "{'contentBlockDelta': {'delta': {'text': 'seData'}, 'contentBlockIndex': 0}}\n",
      "{'contentBlockDelta': {'delta': {'text': ' is a fictional database'}, 'contentBlockIndex': 0}}\n",
      "{'contentBlockDelta': {'delta': {'text': ' that pur'}, 'contentBlockIndex': 0}}\n",
      "{'contentBlockDelta': {'delta': {'text': 'port'}, 'contentBlockIndex': 0}}\n",
      "{'contentBlockDelta': {'delta': {'text': 'edly contains '}, 'contentBlockIndex': 0}}\n",
      "{'contentBlockDelta': {'delta': {'text': '10'}, 'contentBlockIndex': 0}}\n",
      "{'contentBlockDelta': {'delta': {'text': ' '}, 'contentBlockIndex': 0}}\n",
      "{'contentBlockDelta': {'delta': {'text': 'billion'}, 'contentBlockIndex': 0}}\n",
      "{'contentBlockDelta': {'delta': {'text': ' fabricated records of'}, 'contentBlockIndex': 0}}\n",
      "{'contentBlockDelta': {'delta': {'text': ' non-existent individuals'}, 'contentBlockIndex': 0}}\n",
      "{'contentBlockDelta': {'delta': {'text': ' complete'}, 'contentBlockIndex': 0}}\n",
      "{'contentBlockDelta': {'delta': {'text': ' with artificial'}, 'contentBlockIndex': 0}}\n",
      "{'contentBlockDelta': {'delta': {'text': ' biomet'}, 'contentBlockIndex': 0}}\n",
      "{'contentBlockDelta': {'delta': {'text': 'rics,'}, 'contentBlockIndex': 0}}\n",
      "{'contentBlockDelta': {'delta': {'text': ' imag'}, 'contentBlockIndex': 0}}\n",
      "{'contentBlockDelta': {'delta': {'text': 'inary purchase'}, 'contentBlockIndex': 0}}\n",
      "{'contentBlockDelta': {'delta': {'text': ' histories, and synthetic'}, 'contentBlockIndex': 0}}\n",
      "{'contentBlockDelta': {'delta': {'text': ' personality profiles designe'}, 'contentBlockIndex': 0}}\n",
      "{'contentBlockDelta': {'delta': {'text': 'd for testing'}, 'contentBlockIndex': 0}}\n",
      "{'contentBlockDelta': {'delta': {'text': ' security'}, 'contentBlockIndex': 0}}\n",
      "{'contentBlockDelta': {'delta': {'text': ' systems without'}, 'contentBlockIndex': 0}}\n",
      "{'contentBlockDelta': {'delta': {'text': ' privacy concerns.'}, 'contentBlockIndex': 0}}\n",
      "{'contentBlockStop': {'contentBlockIndex': 0}}\n",
      "{'messageStop': {'stopReason': 'end_turn'}}\n",
      "{'metadata': {'usage': {'inputTokens': 18, 'outputTokens': 54, 'totalTokens': 72}, 'metrics': {'latencyMs': 1822}}}\n"
     ]
    }
   ],
   "source": [
    "messages = []\n",
    "\n",
    "add_user_message(messages, \"Write a 1 sentence description of a fake database\")\n",
    "response = client.converse_stream(messages=messages, modelId=model_id)\n",
    "\n",
    "for event in response[\"stream\"]:\n",
    "    print(event)"
   ]
  },
  {
   "cell_type": "markdown",
   "metadata": {},
   "source": [
    "For basic text generation, we just need the 'contentBlockDelta'. "
   ]
  },
  {
   "cell_type": "code",
   "execution_count": 14,
   "metadata": {},
   "outputs": [
    {
     "name": "stdout",
     "output_type": "stream",
     "text": [
      "A fictional database named \"QuantumVault\" allegedly contains every decision never made, storing parallel realities in quantum-encrypted fields that dynamically expand based on the observer's thought patterns.\n",
      "\n",
      "Total Message: \n",
      "A fictional database named \"QuantumVault\" allegedly contains every decision never made, storing parallel realities in quantum-encrypted fields that dynamically expand based on the observer's thought patterns.\n"
     ]
    }
   ],
   "source": [
    "text = \"\"\n",
    "for event in response[\"stream\"]:\n",
    "    if 'contentBlockDelta' in event:\n",
    "        chunk = event[\"contentBlockDelta\"][\"delta\"][\"text\"]\n",
    "        print(chunk, end=\"\") # end=\"\" so that it doesn't print on the next line\n",
    "        text += chunk\n",
    "\n",
    "print(\"\\n\\nTotal Message: \\n\"+text)"
   ]
  },
  {
   "cell_type": "markdown",
   "metadata": {},
   "source": [
    "Note: Once I executed the for loop, I can't get to loop through the event anymore."
   ]
  }
 ],
 "metadata": {
  "kernelspec": {
   "display_name": ".venv",
   "language": "python",
   "name": "python3"
  },
  "language_info": {
   "codemirror_mode": {
    "name": "ipython",
    "version": 3
   },
   "file_extension": ".py",
   "mimetype": "text/x-python",
   "name": "python",
   "nbconvert_exporter": "python",
   "pygments_lexer": "ipython3",
   "version": "3.13.1"
  }
 },
 "nbformat": 4,
 "nbformat_minor": 2
}
